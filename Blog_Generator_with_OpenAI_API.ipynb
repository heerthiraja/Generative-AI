{
  "nbformat": 4,
  "nbformat_minor": 0,
  "metadata": {
    "colab": {
      "provenance": [],
      "gpuType": "T4",
      "authorship_tag": "ABX9TyPB6aNY9O/BwhxYCNaqHzet",
      "include_colab_link": true
    },
    "kernelspec": {
      "name": "python3",
      "display_name": "Python 3"
    },
    "language_info": {
      "name": "python"
    },
    "accelerator": "GPU"
  },
  "cells": [
    {
      "cell_type": "markdown",
      "metadata": {
        "id": "view-in-github",
        "colab_type": "text"
      },
      "source": [
        "<a href=\"https://colab.research.google.com/github/heerthiraja/Generative-AI/blob/main/Blog_Generator_with_OpenAI_API.ipynb\" target=\"_parent\"><img src=\"https://colab.research.google.com/assets/colab-badge.svg\" alt=\"Open In Colab\"/></a>"
      ]
    },
    {
      "cell_type": "markdown",
      "source": [
        "# Blog Generator with OpenAI API"
      ],
      "metadata": {
        "id": "ndqo4K8o5YWP"
      }
    },
    {
      "cell_type": "markdown",
      "source": [
        "## Libraries import"
      ],
      "metadata": {
        "id": "ggjWsAKh5f2-"
      }
    },
    {
      "cell_type": "code",
      "execution_count": 1,
      "metadata": {
        "colab": {
          "base_uri": "https://localhost:8080/"
        },
        "id": "79GK1RlP5SzT",
        "outputId": "f0a6e2d4-39ec-47b3-87f3-bc83b7e0e89b"
      },
      "outputs": [
        {
          "output_type": "stream",
          "name": "stdout",
          "text": [
            "Requirement already satisfied: openai in /usr/local/lib/python3.10/dist-packages (1.57.0)\n",
            "Requirement already satisfied: anyio<5,>=3.5.0 in /usr/local/lib/python3.10/dist-packages (from openai) (3.7.1)\n",
            "Requirement already satisfied: distro<2,>=1.7.0 in /usr/local/lib/python3.10/dist-packages (from openai) (1.9.0)\n",
            "Requirement already satisfied: httpx<1,>=0.23.0 in /usr/local/lib/python3.10/dist-packages (from openai) (0.28.0)\n",
            "Requirement already satisfied: jiter<1,>=0.4.0 in /usr/local/lib/python3.10/dist-packages (from openai) (0.8.0)\n",
            "Requirement already satisfied: pydantic<3,>=1.9.0 in /usr/local/lib/python3.10/dist-packages (from openai) (2.10.3)\n",
            "Requirement already satisfied: sniffio in /usr/local/lib/python3.10/dist-packages (from openai) (1.3.1)\n",
            "Requirement already satisfied: tqdm>4 in /usr/local/lib/python3.10/dist-packages (from openai) (4.66.6)\n",
            "Requirement already satisfied: typing-extensions<5,>=4.11 in /usr/local/lib/python3.10/dist-packages (from openai) (4.12.2)\n",
            "Requirement already satisfied: idna>=2.8 in /usr/local/lib/python3.10/dist-packages (from anyio<5,>=3.5.0->openai) (3.10)\n",
            "Requirement already satisfied: exceptiongroup in /usr/local/lib/python3.10/dist-packages (from anyio<5,>=3.5.0->openai) (1.2.2)\n",
            "Requirement already satisfied: certifi in /usr/local/lib/python3.10/dist-packages (from httpx<1,>=0.23.0->openai) (2024.8.30)\n",
            "Requirement already satisfied: httpcore==1.* in /usr/local/lib/python3.10/dist-packages (from httpx<1,>=0.23.0->openai) (1.0.7)\n",
            "Requirement already satisfied: h11<0.15,>=0.13 in /usr/local/lib/python3.10/dist-packages (from httpcore==1.*->httpx<1,>=0.23.0->openai) (0.14.0)\n",
            "Requirement already satisfied: annotated-types>=0.6.0 in /usr/local/lib/python3.10/dist-packages (from pydantic<3,>=1.9.0->openai) (0.7.0)\n",
            "Requirement already satisfied: pydantic-core==2.27.1 in /usr/local/lib/python3.10/dist-packages (from pydantic<3,>=1.9.0->openai) (2.27.1)\n"
          ]
        }
      ],
      "source": [
        "!pip install openai"
      ]
    },
    {
      "cell_type": "code",
      "source": [
        "import os\n",
        "import openai\n",
        "\n",
        "from openai import OpenAI"
      ],
      "metadata": {
        "id": "vuVgbEcE5klR"
      },
      "execution_count": 2,
      "outputs": []
    },
    {
      "cell_type": "markdown",
      "source": [
        "## Setting up API Key"
      ],
      "metadata": {
        "id": "0NqUhLHM557b"
      }
    },
    {
      "cell_type": "code",
      "source": [
        "os.environ[\"OPENAI_API_KEY\"] = \"Your-API\"\n",
        "client = OpenAI()"
      ],
      "metadata": {
        "id": "CzSUNvLO52Ej"
      },
      "execution_count": 3,
      "outputs": []
    },
    {
      "cell_type": "code",
      "source": [
        "print(client.models.list())"
      ],
      "metadata": {
        "colab": {
          "base_uri": "https://localhost:8080/"
        },
        "id": "T2fDbcgz6vQh",
        "outputId": "05c74c8c-3560-455b-fe03-189e8a84423d"
      },
      "execution_count": 4,
      "outputs": [
        {
          "output_type": "stream",
          "name": "stdout",
          "text": [
            "SyncPage[Model](data=[Model(id='gpt-4o-realtime-preview', created=1727659998, object='model', owned_by='system'), Model(id='dall-e-2', created=1698798177, object='model', owned_by='system'), Model(id='text-embedding-ada-002', created=1671217299, object='model', owned_by='openai-internal'), Model(id='gpt-4o-realtime-preview-2024-10-01', created=1727131766, object='model', owned_by='system'), Model(id='gpt-4-1106-preview', created=1698957206, object='model', owned_by='system'), Model(id='text-embedding-3-large', created=1705953180, object='model', owned_by='system'), Model(id='gpt-4-1106-vision-preview', created=1711473033, object='model', owned_by='system'), Model(id='babbage-002', created=1692634615, object='model', owned_by='system'), Model(id='gpt-4o-2024-11-20', created=1731975040, object='model', owned_by='system'), Model(id='o1-mini', created=1725649008, object='model', owned_by='system'), Model(id='davinci-002', created=1692634301, object='model', owned_by='system'), Model(id='o1-mini-2024-09-12', created=1725648979, object='model', owned_by='system'), Model(id='whisper-1', created=1677532384, object='model', owned_by='openai-internal'), Model(id='dall-e-3', created=1698785189, object='model', owned_by='system'), Model(id='gpt-3.5-turbo-16k-0613', created=1685474247, object='model', owned_by='openai'), Model(id='o1-preview', created=1725648897, object='model', owned_by='system'), Model(id='gpt-3.5-turbo-16k', created=1683758102, object='model', owned_by='openai-internal'), Model(id='o1-preview-2024-09-12', created=1725648865, object='model', owned_by='system'), Model(id='gpt-4-0125-preview', created=1706037612, object='model', owned_by='system'), Model(id='gpt-4-turbo-preview', created=1706037777, object='model', owned_by='system'), Model(id='omni-moderation-latest', created=1731689265, object='model', owned_by='system'), Model(id='omni-moderation-2024-09-26', created=1732734466, object='model', owned_by='system'), Model(id='tts-1-hd-1106', created=1699053533, object='model', owned_by='system'), Model(id='gpt-4', created=1687882411, object='model', owned_by='openai'), Model(id='gpt-4-0613', created=1686588896, object='model', owned_by='openai'), Model(id='gpt-4o-mini', created=1721172741, object='model', owned_by='system'), Model(id='gpt-4o-mini-2024-07-18', created=1721172717, object='model', owned_by='system'), Model(id='gpt-3.5-turbo', created=1677610602, object='model', owned_by='openai'), Model(id='gpt-3.5-turbo-0125', created=1706048358, object='model', owned_by='system'), Model(id='text-embedding-3-small', created=1705948997, object='model', owned_by='system'), Model(id='gpt-4-turbo', created=1712361441, object='model', owned_by='system'), Model(id='tts-1-hd', created=1699046015, object='model', owned_by='system'), Model(id='gpt-4o', created=1715367049, object='model', owned_by='system'), Model(id='gpt-4o-2024-08-06', created=1722814719, object='model', owned_by='system'), Model(id='gpt-4-vision-preview', created=1698894917, object='model', owned_by='system'), Model(id='gpt-4-turbo-2024-04-09', created=1712601677, object='model', owned_by='system'), Model(id='gpt-3.5-turbo-1106', created=1698959748, object='model', owned_by='system'), Model(id='gpt-3.5-turbo-instruct', created=1692901427, object='model', owned_by='system'), Model(id='gpt-4o-audio-preview', created=1727460443, object='model', owned_by='system'), Model(id='gpt-3.5-turbo-0613', created=1686587434, object='model', owned_by='openai'), Model(id='gpt-4o-audio-preview-2024-10-01', created=1727389042, object='model', owned_by='system'), Model(id='tts-1', created=1681940951, object='model', owned_by='openai-internal'), Model(id='tts-1-1106', created=1699053241, object='model', owned_by='system'), Model(id='gpt-3.5-turbo-instruct-0914', created=1694122472, object='model', owned_by='system'), Model(id='chatgpt-4o-latest', created=1723515131, object='model', owned_by='system'), Model(id='gpt-4o-2024-05-13', created=1715368132, object='model', owned_by='system'), Model(id='ft:gpt-3.5-turbo-0613:all-business-ai:gavincopy:94N32NXq', created=1710828936, object='model', owned_by='user-15y6kt5i4lp1rm2ktezvg6up'), Model(id='ft:gpt-3.5-turbo-0613:all-business-ai:contentautomation:94vc59HO', created=1710961805, object='model', owned_by='user-15y6kt5i4lp1rm2ktezvg6up'), Model(id='ft:gpt-3.5-turbo-1106:all-business-ai:linkedinposts:9FmaMIEt:ckpt-step-133', created=1713548711, object='model', owned_by='user-15y6kt5i4lp1rm2ktezvg6up'), Model(id='ft:gpt-3.5-turbo-1106:all-business-ai:linkedinposts:9FmaNZNF:ckpt-step-266', created=1713548711, object='model', owned_by='user-15y6kt5i4lp1rm2ktezvg6up'), Model(id='ft:gpt-3.5-turbo-1106:all-business-ai:linkedinposts:9FmaNoq0', created=1713548711, object='model', owned_by='user-15y6kt5i4lp1rm2ktezvg6up'), Model(id='ft:gpt-3.5-turbo-1106:all-business-ai:instagen:9si23avS:ckpt-step-57', created=1722826000, object='model', owned_by='user-15y6kt5i4lp1rm2ktezvg6up'), Model(id='ft:gpt-3.5-turbo-1106:all-business-ai:instagen:9si24vN4:ckpt-step-114', created=1722826000, object='model', owned_by='user-15y6kt5i4lp1rm2ktezvg6up'), Model(id='ft:gpt-3.5-turbo-1106:all-business-ai:instagen:9si240X2', created=1722826000, object='model', owned_by='user-15y6kt5i4lp1rm2ktezvg6up'), Model(id='ft:gpt-3.5-turbo-0125:all-business-ai::A1u5RiSM:ckpt-step-70', created=1725017289, object='model', owned_by='user-15y6kt5i4lp1rm2ktezvg6up'), Model(id='ft:gpt-3.5-turbo-0125:all-business-ai::A1u5R8S5:ckpt-step-140', created=1725017289, object='model', owned_by='user-15y6kt5i4lp1rm2ktezvg6up'), Model(id='ft:gpt-3.5-turbo-0125:all-business-ai::A1u5RMKH', created=1725017289, object='model', owned_by='user-15y6kt5i4lp1rm2ktezvg6up'), Model(id='ft:gpt-4o-mini-2024-07-18:all-business-ai:leomodel:A1vSdT3f:ckpt-step-85', created=1725022572, object='model', owned_by='user-15y6kt5i4lp1rm2ktezvg6up'), Model(id='ft:gpt-4o-mini-2024-07-18:all-business-ai:leomodel:A1vSesAY:ckpt-step-170', created=1725022572, object='model', owned_by='user-15y6kt5i4lp1rm2ktezvg6up'), Model(id='ft:gpt-4o-mini-2024-07-18:all-business-ai:leomodel:A1vSeCfY', created=1725022572, object='model', owned_by='user-15y6kt5i4lp1rm2ktezvg6up')], object='list')\n"
          ]
        }
      ]
    },
    {
      "cell_type": "code",
      "source": [
        "client.completions.create(\n",
        "    model=\"gpt-3.5-turbo-instruct\",\n",
        "    prompt=\"Tell me the benefits of apple\",\n",
        ")"
      ],
      "metadata": {
        "colab": {
          "base_uri": "https://localhost:8080/"
        },
        "id": "_k_QXg0Y6yX9",
        "outputId": "9506dd36-d3df-46bd-de77-24fb09d0042a"
      },
      "execution_count": 5,
      "outputs": [
        {
          "output_type": "execute_result",
          "data": {
            "text/plain": [
              "Completion(id='cmpl-AcQlN6NxpwSO4Rixw21b7wTLZlzUv', choices=[CompletionChoice(finish_reason='length', index=0, logprobs=None, text='\\n\\n1. Nutritious: Apples are a good source of essential vitamins')], created=1733722705, model='gpt-3.5-turbo-instruct', object='text_completion', system_fingerprint=None, usage=CompletionUsage(completion_tokens=16, prompt_tokens=6, total_tokens=22, completion_tokens_details=None, prompt_tokens_details=None))"
            ]
          },
          "metadata": {},
          "execution_count": 5
        }
      ]
    },
    {
      "cell_type": "markdown",
      "source": [
        "## Building our Blog generator"
      ],
      "metadata": {
        "id": "yH1f6kbY7Tt5"
      }
    },
    {
      "cell_type": "code",
      "source": [
        "response = client.completions.create(\n",
        "    model=\"gpt-3.5-turbo-instruct\",\n",
        "    prompt=\"Benefits of Apple fruit for health\",\n",
        "    temperature=1,\n",
        "    max_tokens=700,\n",
        ")"
      ],
      "metadata": {
        "id": "RdfSNyB-7HbK"
      },
      "execution_count": 6,
      "outputs": []
    },
    {
      "cell_type": "code",
      "source": [
        "print(response)"
      ],
      "metadata": {
        "colab": {
          "base_uri": "https://localhost:8080/"
        },
        "id": "NCSuY5eG7Hie",
        "outputId": "0b5ab29e-e8dc-4f2e-eb01-6426476b2483"
      },
      "execution_count": 7,
      "outputs": [
        {
          "output_type": "stream",
          "name": "stdout",
          "text": [
            "Completion(id='cmpl-AcQluG17TSyQGHqKCyB4S4TSvpCFh', choices=[CompletionChoice(finish_reason='stop', index=0, logprobs=None, text=\"\\n\\n1. Good for the heart: Apples contain antioxidant compounds called polyphenols, which have been shown to reduce the risk of heart disease by preventing the buildup of plaque in the arteries. The fiber in apples also helps to lower cholesterol levels and promote healthy blood flow.\\n\\n2. Promotes weight loss: Apples are low in calories and high in fiber, making them a great snack option for those looking to lose weight. The fiber helps to keep you feeling full for longer, reducing the temptation to snack on unhealthy foods.\\n\\n3. Improves digestion: The fiber in apples also helps to promote healthy digestion by bulking up stools and promoting bowel movement regularity. Apples also contain natural laxatives, such as pectin, which can help to relieve constipation.\\n\\n4. Boosts immune system: Apples are a rich source of vitamin C, which is crucial for a healthy immune system. The antioxidants in apples also help to fight off free radicals that can damage cells and tissues.\\n\\n5. Reduces the risk of cancer: Studies have shown that regular consumption of apples may be linked to a reduced risk of developing certain types of cancer, such as lung, breast, and colon cancer. This is due to the high levels of antioxidants and anti-inflammatory compounds in apples.\\n\\n6. Good for the brain: Apples contain a compound called quercetin, which has been shown to protect brain cells from degeneration and improve brain function. Apples may also help to reduce the risk of developing Alzheimer's disease.\\n\\n7. Regulates blood sugar levels: The fiber in apples slows down the absorption of sugar in the bloodstream, which can help to regulate blood sugar levels. This makes apples a great snack option for those with diabetes.\\n\\n8. Improves bone health: Apples contain a range of nutrients that are important for maintaining strong and healthy bones, such as calcium, Vitamin K, and potassium.\\n\\n9. Protects against asthma: The antioxidants and anti-inflammatory compounds in apples may help to reduce the risk of developing asthma and improve lung function in those who already have the condition.\\n\\n10. Good for skin health: The high levels of vitamin C in apples help to promote collagen production, which can improve skin elasticity and reduce the appearance of wrinkles. Apples may also help to protect the skin from UV damage.\")], created=1733722738, model='gpt-3.5-turbo-instruct', object='text_completion', system_fingerprint=None, usage=CompletionUsage(completion_tokens=465, prompt_tokens=6, total_tokens=471, completion_tokens_details=None, prompt_tokens_details=None))\n"
          ]
        }
      ]
    },
    {
      "cell_type": "code",
      "source": [
        "print(response.choices[0].text)\n"
      ],
      "metadata": {
        "colab": {
          "base_uri": "https://localhost:8080/"
        },
        "id": "2MlJ2Wd_7dVA",
        "outputId": "4758b792-059b-4b42-ce45-a2146459ed0f"
      },
      "execution_count": 8,
      "outputs": [
        {
          "output_type": "stream",
          "name": "stdout",
          "text": [
            "\n",
            "\n",
            "1. Good for the heart: Apples contain antioxidant compounds called polyphenols, which have been shown to reduce the risk of heart disease by preventing the buildup of plaque in the arteries. The fiber in apples also helps to lower cholesterol levels and promote healthy blood flow.\n",
            "\n",
            "2. Promotes weight loss: Apples are low in calories and high in fiber, making them a great snack option for those looking to lose weight. The fiber helps to keep you feeling full for longer, reducing the temptation to snack on unhealthy foods.\n",
            "\n",
            "3. Improves digestion: The fiber in apples also helps to promote healthy digestion by bulking up stools and promoting bowel movement regularity. Apples also contain natural laxatives, such as pectin, which can help to relieve constipation.\n",
            "\n",
            "4. Boosts immune system: Apples are a rich source of vitamin C, which is crucial for a healthy immune system. The antioxidants in apples also help to fight off free radicals that can damage cells and tissues.\n",
            "\n",
            "5. Reduces the risk of cancer: Studies have shown that regular consumption of apples may be linked to a reduced risk of developing certain types of cancer, such as lung, breast, and colon cancer. This is due to the high levels of antioxidants and anti-inflammatory compounds in apples.\n",
            "\n",
            "6. Good for the brain: Apples contain a compound called quercetin, which has been shown to protect brain cells from degeneration and improve brain function. Apples may also help to reduce the risk of developing Alzheimer's disease.\n",
            "\n",
            "7. Regulates blood sugar levels: The fiber in apples slows down the absorption of sugar in the bloodstream, which can help to regulate blood sugar levels. This makes apples a great snack option for those with diabetes.\n",
            "\n",
            "8. Improves bone health: Apples contain a range of nutrients that are important for maintaining strong and healthy bones, such as calcium, Vitamin K, and potassium.\n",
            "\n",
            "9. Protects against asthma: The antioxidants and anti-inflammatory compounds in apples may help to reduce the risk of developing asthma and improve lung function in those who already have the condition.\n",
            "\n",
            "10. Good for skin health: The high levels of vitamin C in apples help to promote collagen production, which can improve skin elasticity and reduce the appearance of wrinkles. Apples may also help to protect the skin from UV damage.\n"
          ]
        }
      ]
    },
    {
      "cell_type": "code",
      "source": [
        "prompt = \"\"\"\n",
        "You are a copy writer with years of experience writing impactful blog that converge and help elevate brands.\n",
        "Your task is to write a blog on any topic system provides you with. Make sure to write in a format that works for Medium.\n",
        "Each blog should be separated into segments that have titles and subtitles. Each paragraph should be three sentences long.\n",
        "\n",
        "Topic: GTA 6\n",
        "Additiona pointers: None\n",
        "\"\"\"\n",
        "\n",
        "response = client.completions.create(\n",
        "    model=\"gpt-3.5-turbo-instruct\",\n",
        "    prompt=prompt,\n",
        "    temperature=1,\n",
        "    max_tokens=700,\n",
        ")"
      ],
      "metadata": {
        "id": "kqia-Vji7e8u"
      },
      "execution_count": 9,
      "outputs": []
    },
    {
      "cell_type": "code",
      "source": [
        "print(response.choices[0].text)"
      ],
      "metadata": {
        "colab": {
          "base_uri": "https://localhost:8080/"
        },
        "id": "P0a7ISYM7fAD",
        "outputId": "5d7a79d6-b1a7-4ec7-af01-8522e43a69ab"
      },
      "execution_count": 10,
      "outputs": [
        {
          "output_type": "stream",
          "name": "stdout",
          "text": [
            "\n",
            "Title: \"GTA 6: The Highly Anticipated and Revolutionary Addition to the Grand Theft Auto Franchise\"\n",
            "\n",
            "Subtitle: \"Exploring the Excitement and Expectations for the Upcoming GTA 6\"\n",
            "\n",
            "The Grand Theft Auto franchise has been a consistent source of entertainment for gamers since its first release in 1997. With each new installment, the game has evolved and raised the bar for open-world action games. And now, gamers and industry experts alike are eagerly anticipating the release of the next game in the series - GTA 6.\n",
            "\n",
            "Subtitle: \"A Leap into the Next Generation of Gaming\"\n",
            "\n",
            "With the announcement of GTA 6, Rockstar Games has revealed that the game will be set in a new, modern version of Vice City. This shift from the previous settings of Los Santos and Liberty City has sparked curiosity and excitement among fans. Along with this, the game's release is set to coincide with the launch of the next generation consoles, promising even more advanced and realistic gameplay.\n",
            "\n",
            "Subtitle: \"Revolutionizing the Gaming Experience\"\n",
            "\n",
            "One of the most anticipated features of GTA 6 is the introduction of a female protagonist, a first for the franchise. This change not only brings diversity to the game's storyline but also challenges the stereotypes of women in the gaming world. Additionally, the game is rumored to have a seamless online multiplayer experience, allowing players to explore the vast game world with friends.\n",
            "\n",
            "Subtitle: \"The Impact on the Gaming Industry\"\n",
            "\n",
            "As one of the most successful franchises in the gaming industry, the release of GTA 6 is expected to have a significant impact. The game is projected to break records and set new standards for open-world games. With its highly immersive gameplay and advanced graphics, GTA 6 is poised to be a game-changer in the industry.\n",
            "\n",
            "Subtitle: \"Meeting the High Expectations\"\n",
            "\n",
            "With the success of previous GTA games, the expectations for GTA 6 are understandably high. Fans are anticipating a riveting storyline, improved graphics and gameplay, and a vast open-world to explore. Rockstar Games has a history of meeting and exceeding expectations, and many believe that GTA 6 will be no exception.\n",
            "\n",
            "Subtitle: \"Final Thoughts\"\n",
            "\n",
            "In conclusion, GTA 6 is set to revolutionize the gaming experience and continue the legacy of the Grand Theft Auto franchise. With its new settings, diverse characters, and advanced features, it promises to be a game that surpasses all expectations. As we eagerly await its release, one thing is certain - GTA 6 is going to be a game-changer in the world of gaming.\n"
          ]
        }
      ]
    },
    {
      "cell_type": "markdown",
      "source": [
        "## Accepting user inputs"
      ],
      "metadata": {
        "id": "8MkKnQ9N72Da"
      }
    },
    {
      "cell_type": "code",
      "source": [
        "topic = input(\"Enter a topic: \")\n",
        "additional_pointers = input(\"Enter any additional pointers, if any: \")\n",
        "\n",
        "prompt = f\"\"\"\n",
        "You are a copy writer with years of experience writing impactful blog that converge and help elevate brands.\n",
        "Your task is to write a blog on any topic system provides you with. Make sure to write in a format that works for Medium.\n",
        "Each blog should be separated into segments that have titles and subtitles. Each paragraph should be three sentences long.\n",
        "\n",
        "Topic: {topic}\n",
        "Additiona pointers: {additional_pointers}\n",
        "\"\"\"\n",
        "\n",
        "response = client.completions.create(\n",
        "    model=\"gpt-3.5-turbo-instruct\",\n",
        "    prompt=prompt,\n",
        "    temperature=1,\n",
        "    max_tokens=700,\n",
        ")\n",
        "\n",
        "print(response.choices[0].text)"
      ],
      "metadata": {
        "colab": {
          "base_uri": "https://localhost:8080/"
        },
        "id": "vUosTI_O7fJN",
        "outputId": "aa8c6720-fe78-4ed4-e3cd-da343c26e1dd"
      },
      "execution_count": 11,
      "outputs": [
        {
          "output_type": "stream",
          "name": "stdout",
          "text": [
            "Enter a topic: Health\n",
            "Enter any additional pointers, if any: Vericose Vein\n",
            "\n",
            "Title: Conquering Varicose Veins: Understanding and Managing This Common Health Condition\n",
            "\n",
            "Subtitle: A Guide to Understanding Varicose Veins and Taking Control of Your Health\n",
            "\n",
            "Paragraph 1:\n",
            "Varicose veins are a common and often misunderstood health condition that affects millions of people around the world. These enlarged, twisted veins are most commonly found in the legs and can be both uncomfortable and unsightly. But with the right knowledge and management, varicose veins can be conquered and you can take control of your health.\n",
            "\n",
            "Subtitle: What Are Varicose Veins and What Causes Them?\n",
            "\n",
            "Paragraph 2:\n",
            "Varicose veins occur when the valves in the veins become weakened or damaged, causing blood to pool and the veins to enlarge and appear twisted. While genetics and age play a role in the development of varicose veins, other factors such as pregnancy, obesity, and prolonged sitting or standing can also contribute to their formation.\n",
            "\n",
            "Subtitle: The Impact of Varicose Veins on Your Health and Well-Being\n",
            "\n",
            "Paragraph 3:\n",
            "Aside from their appearance, varicose veins can also cause discomfort and pain. Many people with varicose veins experience aching, heaviness, and swelling in their legs, as well as cramping and restless legs at night. In severe cases, varicose veins can lead to more serious health issues such as blood clots and ulcers.\n",
            "\n",
            "Subtitle: Managing Varicose Veins: Prevention and Treatment Options\n",
            "\n",
            "Paragraph 4:\n",
            "While some people may opt for cosmetic treatments to address their varicose veins, there are also lifestyle changes and medical interventions that can help prevent and manage the condition. Regular exercise and maintaining a healthy weight can improve circulation and reduce the risk of developing varicose veins. For those experiencing discomfort, compression stockings and elevation of the legs can provide relief. In more severe cases, medical treatments such as sclerotherapy, laser therapy, or surgery may be recommended.\n",
            "\n",
            "Subtitle: Taking Control of Your Varicose Vein Health\n",
            "\n",
            "Paragraph 5:\n",
            "Taking control of your health and managing varicose veins starts with understanding the condition and its potential causes. If you have a family history of varicose veins or are experiencing discomfort in your legs, it is important to talk to your doctor and discuss your options for prevention and treatment. By taking proactive steps and staying informed, you can conquer varicose veins and improve your overall health and well-being.\n",
            "\n",
            "Subtitle: Embracing Your Body and Seeking Support\n",
            "\n",
            "Paragraph 6:\n",
            "It is important to remember that varicose veins are a common condition and there is no shame in seeking support or treatment. It is crucial to embrace your body and prioritize your health, both physically and mentally. Talk to your family and friends about your struggles with varicose veins and seek professional help if needed. With the right support and mindset, you can overcome this common health condition and feel confident in your own skin.\n",
            "\n",
            "Subtitle: In Conclusion: Take Care of Your Veins and Your Overall Health\n",
            "\n",
            "Paragraph 7:\n",
            "Varicose veins may be a common health issue, but they do not have to control your life. By understanding the condition and taking proactive steps to manage it, you can maintain your overall health and well-being. Remember to prioritize self-care and seek support when needed. With proper management, you can conquer varicose veins and feel your best both inside and out. \n"
          ]
        }
      ]
    },
    {
      "cell_type": "code",
      "source": [],
      "metadata": {
        "id": "Cdatilrk76lu"
      },
      "execution_count": 11,
      "outputs": []
    },
    {
      "cell_type": "code",
      "source": [],
      "metadata": {
        "id": "EmC7SR6o76pp"
      },
      "execution_count": null,
      "outputs": []
    },
    {
      "cell_type": "code",
      "source": [
        "#pip show openai\n",
        "#pip install --upgrade openai"
      ],
      "metadata": {
        "id": "SRDgR1Sk6uxe"
      },
      "execution_count": 12,
      "outputs": []
    }
  ]
}